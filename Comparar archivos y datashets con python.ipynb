{
 "cells": [
  {
   "cell_type": "markdown",
   "metadata": {},
   "source": [
    "# Comparar archivos y datashets con python (Pandas, MD5 y SHA1)\n",
    "\n",
    "Cuando tenemos un conjunto de datos pequeño, una de las maneras más simples de comparar dos datashets es con excel o similar, y comparar las dos hojas con esta sencilla instrucción en cada casilla (en la casilla A1, que tomaremos como referencia):\n",
    "\n",
    "=Sheet1!A1=Sheet2!A1\n",
    "\n",
    "Esta instrucción realizará una comparación booleana entra las casillas A1 de las hojas llamadas \"Sheet1\" y \"Sheet2\" y devolverá True en caso de que sean iguales y False en contrario. \n",
    "Sin embargo, con volumenes de datos muy grandes, trabajar con excel resulta costoso o impracticable. En situaciones como esta se utilizan herramientas alternativas, como R o python. En este notebook se presentan diversas maneras de comparar archivos y datashets en python, con una explicación guiada de cada método así como una implementación ejecutable en python de cada uno.\n",
    "\n"
   ]
  },
  {
   "cell_type": "markdown",
   "metadata": {},
   "source": [
    "# Índice:\n",
    "* [Librerías](#librerias)\n",
    "* [Carga y lectura de datos](#lectura)\n",
    "\n",
    "\n",
    "* [Comparando datos utilizando la libreria pandas](#comparando)\n",
    "    * [Método Eq()](#eq)\n",
    "    * [Método equals](#equals)\n",
    "    * [Método any](#any)\n",
    "    \n",
    "* [Comparando datos utilizando el algoritmo MD5 CHecksum](#md5)\n",
    "\n",
    "* [Comparando datos utilizando el algoritmo SHA1](#sha1)\n",
    "  \n",
    "Ejecutables python:\n",
    "* [Comparando datos utilizando la librería pandas](#python_pandas)\n",
    "* [Comparando datos utilizando el algoritmo MD5 CHecksum](#python_md5)\n",
    "* [Comparando datos utilizando el algoritmo SHA1](#python_sha1)\n",
    "        "
   ]
  },
  {
   "cell_type": "markdown",
   "metadata": {},
   "source": [
    "## Librerias <a class=\"anchor\" id=\"librerias\"></a>\n",
    "\n",
    "Usaremos la librería *pandas* para leer y manejar las hojas de cálculo, y las librerias *xlrd* y *openpyxl*, que ayudaran también  con la lectura y escritura de archivos. Para instalar estas librerias, quitar el comentario (el '#' de la siguiente línea) y ejecutarla.\n",
    "\n",
    "##### importante: Si las librerías no estaban instaladas, será necesario reiniciar el kernel si se esta trabajando con un cuaderno jupyter (Ir a \"kernel\" y \"restart\")."
   ]
  },
  {
   "cell_type": "code",
   "execution_count": 1,
   "metadata": {},
   "outputs": [],
   "source": [
    "#pip install pandas\n",
    "# Cargar las librerias\n",
    "import pandas as pd\n"
   ]
  },
  {
   "cell_type": "markdown",
   "metadata": {},
   "source": [
    "# Carga y lectura de datos <a class=\"anchor\" id=\"lectura\"></a>\n",
    "Utilizaremos un fichero que simula una base de datos de clientes falsos."
   ]
  },
  {
   "cell_type": "code",
   "execution_count": 2,
   "metadata": {},
   "outputs": [
    {
     "data": {
      "text/html": [
       "<div>\n",
       "<style scoped>\n",
       "    .dataframe tbody tr th:only-of-type {\n",
       "        vertical-align: middle;\n",
       "    }\n",
       "\n",
       "    .dataframe tbody tr th {\n",
       "        vertical-align: top;\n",
       "    }\n",
       "\n",
       "    .dataframe thead th {\n",
       "        text-align: right;\n",
       "    }\n",
       "</style>\n",
       "<table border=\"1\" class=\"dataframe\">\n",
       "  <thead>\n",
       "    <tr style=\"text-align: right;\">\n",
       "      <th></th>\n",
       "      <th>DateTime Recorded</th>\n",
       "      <th>Name</th>\n",
       "      <th>Address</th>\n",
       "      <th>City</th>\n",
       "      <th>State</th>\n",
       "      <th>Email</th>\n",
       "      <th>Products Talked About</th>\n",
       "      <th>Notes</th>\n",
       "    </tr>\n",
       "  </thead>\n",
       "  <tbody>\n",
       "    <tr>\n",
       "      <th>0</th>\n",
       "      <td>3/28/18</td>\n",
       "      <td>Tony Stark</td>\n",
       "      <td>777 Brockton Avenue, Abington MA 2351</td>\n",
       "      <td>London</td>\n",
       "      <td>NaN</td>\n",
       "      <td>iamnotironman@starkindustries.com</td>\n",
       "      <td>LaptopPhone</td>\n",
       "      <td>Satisfied</td>\n",
       "    </tr>\n",
       "    <tr>\n",
       "      <th>1</th>\n",
       "      <td>3/28/18</td>\n",
       "      <td>Tony Stark</td>\n",
       "      <td>30 Memorial Drive, Avon MA 2322</td>\n",
       "      <td>London</td>\n",
       "      <td>NaN</td>\n",
       "      <td>iamnotironman@starkindustries.com</td>\n",
       "      <td>LaptopPhone</td>\n",
       "      <td>Satisfied</td>\n",
       "    </tr>\n",
       "    <tr>\n",
       "      <th>2</th>\n",
       "      <td>3/28/18</td>\n",
       "      <td>Tony Stark</td>\n",
       "      <td>250 Hartford Avenue, Bellingham MA 2019</td>\n",
       "      <td>London</td>\n",
       "      <td></td>\n",
       "      <td>iamnotironman@starkindustries.com</td>\n",
       "      <td>LaptopPhone</td>\n",
       "      <td>satisfied</td>\n",
       "    </tr>\n",
       "    <tr>\n",
       "      <th>3</th>\n",
       "      <td>3/28/18</td>\n",
       "      <td>Tony Stark</td>\n",
       "      <td>700 Oak Street, Brockton MA 2301</td>\n",
       "      <td>London</td>\n",
       "      <td>NaN</td>\n",
       "      <td>iamnotironman@starkindustries.com</td>\n",
       "      <td>Laptop, Phone</td>\n",
       "      <td>satisfied</td>\n",
       "    </tr>\n",
       "    <tr>\n",
       "      <th>4</th>\n",
       "      <td>9/9/17</td>\n",
       "      <td>Viuda Negra</td>\n",
       "      <td>66-4 Parkhurst Rd, Chelmsford MA 1824</td>\n",
       "      <td>Mumbai</td>\n",
       "      <td>Maharashtra</td>\n",
       "      <td>looksthatkill@avengers.com</td>\n",
       "      <td>Blue-ray Player, Drone</td>\n",
       "      <td>I was not satisfied</td>\n",
       "    </tr>\n",
       "  </tbody>\n",
       "</table>\n",
       "</div>"
      ],
      "text/plain": [
       "  DateTime Recorded         Name                                  Address  \\\n",
       "0           3/28/18   Tony Stark    777 Brockton Avenue, Abington MA 2351   \n",
       "1           3/28/18   Tony Stark          30 Memorial Drive, Avon MA 2322   \n",
       "2           3/28/18   Tony Stark  250 Hartford Avenue, Bellingham MA 2019   \n",
       "3           3/28/18   Tony Stark         700 Oak Street, Brockton MA 2301   \n",
       "4            9/9/17  Viuda Negra    66-4 Parkhurst Rd, Chelmsford MA 1824   \n",
       "\n",
       "     City                 State                              Email  \\\n",
       "0  London                   NaN  iamnotironman@starkindustries.com   \n",
       "1  London                   NaN  iamnotironman@starkindustries.com   \n",
       "2  London                        iamnotironman@starkindustries.com   \n",
       "3  London                   NaN  iamnotironman@starkindustries.com   \n",
       "4  Mumbai           Maharashtra         looksthatkill@avengers.com   \n",
       "\n",
       "    Products Talked About                Notes  \n",
       "0             LaptopPhone            Satisfied  \n",
       "1             LaptopPhone            Satisfied  \n",
       "2             LaptopPhone            satisfied  \n",
       "3           Laptop, Phone            satisfied  \n",
       "4  Blue-ray Player, Drone  I was not satisfied  "
      ]
     },
     "execution_count": 2,
     "metadata": {},
     "output_type": "execute_result"
    }
   ],
   "source": [
    "# Leer archivo\n",
    "archivo_ejemplo_bbd_clientes1 = pd.read_csv('Ejemplo_BDD_Clientes.csv', quotechar ='\"',sep =';', encoding ='utf8')\n",
    "# mostramos las 5 primeras entradas del archivo\n",
    "archivo_ejemplo_bbd_clientes1.head(5)"
   ]
  },
  {
   "cell_type": "code",
   "execution_count": 9,
   "metadata": {},
   "outputs": [
    {
     "data": {
      "text/html": [
       "<div>\n",
       "<style scoped>\n",
       "    .dataframe tbody tr th:only-of-type {\n",
       "        vertical-align: middle;\n",
       "    }\n",
       "\n",
       "    .dataframe tbody tr th {\n",
       "        vertical-align: top;\n",
       "    }\n",
       "\n",
       "    .dataframe thead th {\n",
       "        text-align: right;\n",
       "    }\n",
       "</style>\n",
       "<table border=\"1\" class=\"dataframe\">\n",
       "  <thead>\n",
       "    <tr style=\"text-align: right;\">\n",
       "      <th></th>\n",
       "      <th>DateTime Recorded</th>\n",
       "      <th>Name</th>\n",
       "      <th>Address</th>\n",
       "      <th>City</th>\n",
       "      <th>State</th>\n",
       "      <th>Email</th>\n",
       "      <th>Products Talked About</th>\n",
       "      <th>Notes</th>\n",
       "    </tr>\n",
       "  </thead>\n",
       "  <tbody>\n",
       "    <tr>\n",
       "      <th>0</th>\n",
       "      <td>3/28/18</td>\n",
       "      <td>Tony Stark</td>\n",
       "      <td>777 Brockton Avenue, Abington MA 2351</td>\n",
       "      <td>London</td>\n",
       "      <td>NaN</td>\n",
       "      <td>iamnotironman@starkindustries.com</td>\n",
       "      <td>LaptopPhone</td>\n",
       "      <td>Satisfied</td>\n",
       "    </tr>\n",
       "    <tr>\n",
       "      <th>1</th>\n",
       "      <td>3/28/18</td>\n",
       "      <td>Tony Stark</td>\n",
       "      <td>30 Memorial Drive, Avon MA 2322</td>\n",
       "      <td>London</td>\n",
       "      <td>NaN</td>\n",
       "      <td>iamnotironman@starkindustries.com</td>\n",
       "      <td>LaptopPhone</td>\n",
       "      <td>Satisfied</td>\n",
       "    </tr>\n",
       "    <tr>\n",
       "      <th>2</th>\n",
       "      <td>3/28/18</td>\n",
       "      <td>Tony Stark</td>\n",
       "      <td>250 Hartford Avenue, Bellingham MA 2019</td>\n",
       "      <td>London</td>\n",
       "      <td></td>\n",
       "      <td>iamnotironman@starkindustries.com</td>\n",
       "      <td>LaptopPhone</td>\n",
       "      <td>satisfied</td>\n",
       "    </tr>\n",
       "    <tr>\n",
       "      <th>3</th>\n",
       "      <td>3/28/18</td>\n",
       "      <td>Tony Stark</td>\n",
       "      <td>700 Oak Street, Brockton MA 2301</td>\n",
       "      <td>London</td>\n",
       "      <td>NaN</td>\n",
       "      <td>iamnotironman@starkindustries.com</td>\n",
       "      <td>Laptop, Phone</td>\n",
       "      <td>satisfied</td>\n",
       "    </tr>\n",
       "    <tr>\n",
       "      <th>4</th>\n",
       "      <td>9/9/17</td>\n",
       "      <td>Viuda Negra</td>\n",
       "      <td>66-4 Parkhurst Rd, Chelmsford MA 1824</td>\n",
       "      <td>Mumbai</td>\n",
       "      <td>Maharashtra</td>\n",
       "      <td>looksthatkill@avengers.com</td>\n",
       "      <td>Blue-ray Player, Drone</td>\n",
       "      <td>I was not satisfied</td>\n",
       "    </tr>\n",
       "  </tbody>\n",
       "</table>\n",
       "</div>"
      ],
      "text/plain": [
       "  DateTime Recorded         Name                                  Address  \\\n",
       "0           3/28/18   Tony Stark    777 Brockton Avenue, Abington MA 2351   \n",
       "1           3/28/18   Tony Stark          30 Memorial Drive, Avon MA 2322   \n",
       "2           3/28/18   Tony Stark  250 Hartford Avenue, Bellingham MA 2019   \n",
       "3           3/28/18   Tony Stark         700 Oak Street, Brockton MA 2301   \n",
       "4            9/9/17  Viuda Negra    66-4 Parkhurst Rd, Chelmsford MA 1824   \n",
       "\n",
       "     City                 State                              Email  \\\n",
       "0  London                   NaN  iamnotironman@starkindustries.com   \n",
       "1  London                   NaN  iamnotironman@starkindustries.com   \n",
       "2  London                        iamnotironman@starkindustries.com   \n",
       "3  London                   NaN  iamnotironman@starkindustries.com   \n",
       "4  Mumbai           Maharashtra         looksthatkill@avengers.com   \n",
       "\n",
       "    Products Talked About                Notes  \n",
       "0             LaptopPhone            Satisfied  \n",
       "1             LaptopPhone            Satisfied  \n",
       "2             LaptopPhone            satisfied  \n",
       "3           Laptop, Phone            satisfied  \n",
       "4  Blue-ray Player, Drone  I was not satisfied  "
      ]
     },
     "execution_count": 9,
     "metadata": {},
     "output_type": "execute_result"
    }
   ],
   "source": [
    "# Leemos la copia del archivo anterior\n",
    "archivo_ejemplo_bbd_clientes2 = pd.read_csv('Ejemplo_BDD_Clientes - copia.csv', quotechar ='\"',sep =';', encoding ='utf8')\n",
    "# mostramos las 5 primeras entradas del archivo\n",
    "archivo_ejemplo_bbd_clientes2.head(5)"
   ]
  },
  {
   "cell_type": "markdown",
   "metadata": {},
   "source": [
    "# Comparando datos utilizando la libreria pandas<a class=\"anchor\" id=\"comparando\"></a>\n",
    "Esta librería nos permite comparar datos con diversos métodos: Eq(), equals() y any()."
   ]
  },
  {
   "cell_type": "markdown",
   "metadata": {},
   "source": [
    "### Método Eq() <a class=\"anchor\" id=\"eq\"></a>\n",
    "Este método devuelve un datashet con el resultado de comparar los dos archivos, que se puede visualizar los resultados uno a uno o utilizando el método \"all()\", que comprueba si toda la columna tiene valores \"True\" o no.\n",
    "\n",
    "IMPORTANTE: por defecto, los métodos de biblioteca panda trabajan sobre columnas (axis = 0). Para trabajar con filas se utiliza (axis =1)."
   ]
  },
  {
   "cell_type": "code",
   "execution_count": 34,
   "metadata": {},
   "outputs": [
    {
     "data": {
      "text/html": [
       "<div>\n",
       "<style scoped>\n",
       "    .dataframe tbody tr th:only-of-type {\n",
       "        vertical-align: middle;\n",
       "    }\n",
       "\n",
       "    .dataframe tbody tr th {\n",
       "        vertical-align: top;\n",
       "    }\n",
       "\n",
       "    .dataframe thead th {\n",
       "        text-align: right;\n",
       "    }\n",
       "</style>\n",
       "<table border=\"1\" class=\"dataframe\">\n",
       "  <thead>\n",
       "    <tr style=\"text-align: right;\">\n",
       "      <th></th>\n",
       "      <th>DateTime Recorded</th>\n",
       "      <th>Name</th>\n",
       "      <th>Address</th>\n",
       "      <th>City</th>\n",
       "      <th>State</th>\n",
       "      <th>Email</th>\n",
       "      <th>Products Talked About</th>\n",
       "      <th>Notes</th>\n",
       "    </tr>\n",
       "  </thead>\n",
       "  <tbody>\n",
       "    <tr>\n",
       "      <th>0</th>\n",
       "      <td>True</td>\n",
       "      <td>True</td>\n",
       "      <td>True</td>\n",
       "      <td>True</td>\n",
       "      <td>False</td>\n",
       "      <td>True</td>\n",
       "      <td>True</td>\n",
       "      <td>True</td>\n",
       "    </tr>\n",
       "    <tr>\n",
       "      <th>1</th>\n",
       "      <td>True</td>\n",
       "      <td>True</td>\n",
       "      <td>True</td>\n",
       "      <td>True</td>\n",
       "      <td>False</td>\n",
       "      <td>True</td>\n",
       "      <td>True</td>\n",
       "      <td>True</td>\n",
       "    </tr>\n",
       "    <tr>\n",
       "      <th>2</th>\n",
       "      <td>True</td>\n",
       "      <td>True</td>\n",
       "      <td>True</td>\n",
       "      <td>True</td>\n",
       "      <td>True</td>\n",
       "      <td>True</td>\n",
       "      <td>True</td>\n",
       "      <td>True</td>\n",
       "    </tr>\n",
       "    <tr>\n",
       "      <th>3</th>\n",
       "      <td>True</td>\n",
       "      <td>True</td>\n",
       "      <td>True</td>\n",
       "      <td>True</td>\n",
       "      <td>False</td>\n",
       "      <td>True</td>\n",
       "      <td>True</td>\n",
       "      <td>True</td>\n",
       "    </tr>\n",
       "    <tr>\n",
       "      <th>4</th>\n",
       "      <td>True</td>\n",
       "      <td>True</td>\n",
       "      <td>True</td>\n",
       "      <td>True</td>\n",
       "      <td>True</td>\n",
       "      <td>True</td>\n",
       "      <td>True</td>\n",
       "      <td>True</td>\n",
       "    </tr>\n",
       "    <tr>\n",
       "      <th>5</th>\n",
       "      <td>True</td>\n",
       "      <td>True</td>\n",
       "      <td>True</td>\n",
       "      <td>True</td>\n",
       "      <td>True</td>\n",
       "      <td>True</td>\n",
       "      <td>True</td>\n",
       "      <td>True</td>\n",
       "    </tr>\n",
       "    <tr>\n",
       "      <th>6</th>\n",
       "      <td>True</td>\n",
       "      <td>True</td>\n",
       "      <td>True</td>\n",
       "      <td>True</td>\n",
       "      <td>True</td>\n",
       "      <td>True</td>\n",
       "      <td>True</td>\n",
       "      <td>True</td>\n",
       "    </tr>\n",
       "    <tr>\n",
       "      <th>7</th>\n",
       "      <td>True</td>\n",
       "      <td>True</td>\n",
       "      <td>True</td>\n",
       "      <td>True</td>\n",
       "      <td>True</td>\n",
       "      <td>True</td>\n",
       "      <td>True</td>\n",
       "      <td>False</td>\n",
       "    </tr>\n",
       "    <tr>\n",
       "      <th>8</th>\n",
       "      <td>True</td>\n",
       "      <td>True</td>\n",
       "      <td>True</td>\n",
       "      <td>True</td>\n",
       "      <td>True</td>\n",
       "      <td>True</td>\n",
       "      <td>True</td>\n",
       "      <td>False</td>\n",
       "    </tr>\n",
       "    <tr>\n",
       "      <th>9</th>\n",
       "      <td>True</td>\n",
       "      <td>True</td>\n",
       "      <td>True</td>\n",
       "      <td>True</td>\n",
       "      <td>True</td>\n",
       "      <td>True</td>\n",
       "      <td>True</td>\n",
       "      <td>False</td>\n",
       "    </tr>\n",
       "    <tr>\n",
       "      <th>10</th>\n",
       "      <td>True</td>\n",
       "      <td>True</td>\n",
       "      <td>True</td>\n",
       "      <td>True</td>\n",
       "      <td>True</td>\n",
       "      <td>True</td>\n",
       "      <td>True</td>\n",
       "      <td>True</td>\n",
       "    </tr>\n",
       "  </tbody>\n",
       "</table>\n",
       "</div>"
      ],
      "text/plain": [
       "    DateTime Recorded  Name  Address  City  State  Email  \\\n",
       "0                True  True     True  True  False   True   \n",
       "1                True  True     True  True  False   True   \n",
       "2                True  True     True  True   True   True   \n",
       "3                True  True     True  True  False   True   \n",
       "4                True  True     True  True   True   True   \n",
       "5                True  True     True  True   True   True   \n",
       "6                True  True     True  True   True   True   \n",
       "7                True  True     True  True   True   True   \n",
       "8                True  True     True  True   True   True   \n",
       "9                True  True     True  True   True   True   \n",
       "10               True  True     True  True   True   True   \n",
       "\n",
       "    Products Talked About  Notes  \n",
       "0                    True   True  \n",
       "1                    True   True  \n",
       "2                    True   True  \n",
       "3                    True   True  \n",
       "4                    True   True  \n",
       "5                    True   True  \n",
       "6                    True   True  \n",
       "7                    True  False  \n",
       "8                    True  False  \n",
       "9                    True  False  \n",
       "10                   True   True  "
      ]
     },
     "execution_count": 34,
     "metadata": {},
     "output_type": "execute_result"
    }
   ],
   "source": [
    "comparacion = archivo_ejemplo_bbd_clientes1.eq(archivo_ejemplo_bbd_clientes2)\n",
    "comparacion"
   ]
  },
  {
   "cell_type": "code",
   "execution_count": 38,
   "metadata": {},
   "outputs": [
    {
     "name": "stdout",
     "output_type": "stream",
     "text": [
      "    DateTime Recorded  Name  Address  City  State  Email  \\\n",
      "0                True  True     True  True  False   True   \n",
      "1                True  True     True  True  False   True   \n",
      "2                True  True     True  True   True   True   \n",
      "3                True  True     True  True  False   True   \n",
      "4                True  True     True  True   True   True   \n",
      "5                True  True     True  True   True   True   \n",
      "6                True  True     True  True   True   True   \n",
      "7                True  True     True  True   True   True   \n",
      "8                True  True     True  True   True   True   \n",
      "9                True  True     True  True   True   True   \n",
      "10               True  True     True  True   True   True   \n",
      "\n",
      "    Products Talked About  Notes  \n",
      "0                    True   True  \n",
      "1                    True   True  \n",
      "2                    True   True  \n",
      "3                    True   True  \n",
      "4                    True   True  \n",
      "5                    True   True  \n",
      "6                    True   True  \n",
      "7                    True  False  \n",
      "8                    True  False  \n",
      "9                    True  False  \n",
      "10                   True   True  \n"
     ]
    }
   ],
   "source": [
    "# podemos imprimir el resultado con print tambien\n",
    "print(comparacion)"
   ]
  },
  {
   "cell_type": "markdown",
   "metadata": {},
   "source": [
    "Utilizamos el metodo all() para comprobar si los valores de toda una columna son True o existe alguna discrepancia, en cuyo caso será False."
   ]
  },
  {
   "cell_type": "code",
   "execution_count": 35,
   "metadata": {},
   "outputs": [
    {
     "data": {
      "text/plain": [
       "DateTime Recorded         True\n",
       "Name                      True\n",
       "Address                   True\n",
       "City                      True\n",
       "State                    False\n",
       "Email                     True\n",
       "Products Talked About     True\n",
       "Notes                    False\n",
       "dtype: bool"
      ]
     },
     "execution_count": 35,
     "metadata": {},
     "output_type": "execute_result"
    }
   ],
   "source": [
    "comparacion.all()\n",
    "# print(comparacion.all())"
   ]
  },
  {
   "cell_type": "markdown",
   "metadata": {},
   "source": [
    "Repetimos la operación, pero en este caso realizaremos una comparación por filas "
   ]
  },
  {
   "cell_type": "code",
   "execution_count": 47,
   "metadata": {},
   "outputs": [
    {
     "data": {
      "text/plain": [
       "0     False\n",
       "1     False\n",
       "2      True\n",
       "3     False\n",
       "4      True\n",
       "5      True\n",
       "6      True\n",
       "7     False\n",
       "8     False\n",
       "9     False\n",
       "10     True\n",
       "dtype: bool"
      ]
     },
     "execution_count": 47,
     "metadata": {},
     "output_type": "execute_result"
    }
   ],
   "source": [
    "comparacion_por_filas = comparacion.all(axis=1)\n",
    "comparacion_por_filas"
   ]
  },
  {
   "cell_type": "markdown",
   "metadata": {},
   "source": [
    "Podemos convertir los resultados obtenidos en un dataframe, y filtrar los valores, para averiguar cuales tienen un valor False."
   ]
  },
  {
   "cell_type": "code",
   "execution_count": 49,
   "metadata": {},
   "outputs": [
    {
     "data": {
      "text/html": [
       "<div>\n",
       "<style scoped>\n",
       "    .dataframe tbody tr th:only-of-type {\n",
       "        vertical-align: middle;\n",
       "    }\n",
       "\n",
       "    .dataframe tbody tr th {\n",
       "        vertical-align: top;\n",
       "    }\n",
       "\n",
       "    .dataframe thead th {\n",
       "        text-align: right;\n",
       "    }\n",
       "</style>\n",
       "<table border=\"1\" class=\"dataframe\">\n",
       "  <thead>\n",
       "    <tr style=\"text-align: right;\">\n",
       "      <th></th>\n",
       "      <th>Columnas</th>\n",
       "    </tr>\n",
       "  </thead>\n",
       "  <tbody>\n",
       "    <tr>\n",
       "      <th>0</th>\n",
       "      <td>False</td>\n",
       "    </tr>\n",
       "    <tr>\n",
       "      <th>1</th>\n",
       "      <td>False</td>\n",
       "    </tr>\n",
       "    <tr>\n",
       "      <th>3</th>\n",
       "      <td>False</td>\n",
       "    </tr>\n",
       "    <tr>\n",
       "      <th>7</th>\n",
       "      <td>False</td>\n",
       "    </tr>\n",
       "    <tr>\n",
       "      <th>8</th>\n",
       "      <td>False</td>\n",
       "    </tr>\n",
       "    <tr>\n",
       "      <th>9</th>\n",
       "      <td>False</td>\n",
       "    </tr>\n",
       "  </tbody>\n",
       "</table>\n",
       "</div>"
      ],
      "text/plain": [
       "   Columnas\n",
       "0     False\n",
       "1     False\n",
       "3     False\n",
       "7     False\n",
       "8     False\n",
       "9     False"
      ]
     },
     "execution_count": 49,
     "metadata": {},
     "output_type": "execute_result"
    }
   ],
   "source": [
    "comparacion_por_filas = pd.DataFrame(comparacion_por_filas, columns=['Columnas'])\n",
    "comparacion_por_filas[comparacion_por_filas['Columnas']==False]\n",
    "#print(comparacion_por_filas[comparacion_por_filas['Columns']==False])"
   ]
  },
  {
   "cell_type": "markdown",
   "metadata": {},
   "source": [
    "Pero hemos clonado el archivo que estamos comparando, ¿cómo es posible que haya valores que sean distintos? La respuesta es que esos valores son 'NaN', campos vacíos o desconocidos. Un tipo de dato especial. Eq() los toma como campos distintos."
   ]
  },
  {
   "cell_type": "code",
   "execution_count": 60,
   "metadata": {},
   "outputs": [
    {
     "data": {
      "text/plain": [
       "0                      NaN\n",
       "1                      NaN\n",
       "2                         \n",
       "3                      NaN\n",
       "4              Maharashtra\n",
       "5                       FL\n",
       "6                Wisconsin\n",
       "7                       CA\n",
       "8               California\n",
       "9               California\n",
       "10                      NY\n",
       "Name: State, dtype: object"
      ]
     },
     "execution_count": 60,
     "metadata": {},
     "output_type": "execute_result"
    }
   ],
   "source": [
    "archivo_ejemplo_bbd_clientes1.head(11)[\"State\"]"
   ]
  },
  {
   "cell_type": "markdown",
   "metadata": {},
   "source": [
    "### Método equals()  <a class=\"anchor\" id=\"equals\"></a>\n",
    "El método equals() compara dos archivos en su totalidad, sin distinguir diferencia alguna entre NaN."
   ]
  },
  {
   "cell_type": "code",
   "execution_count": 70,
   "metadata": {},
   "outputs": [
    {
     "data": {
      "text/plain": [
       "True"
      ]
     },
     "execution_count": 70,
     "metadata": {},
     "output_type": "execute_result"
    }
   ],
   "source": [
    "import sys, sqlite3, pandas as pd\n",
    "comparacion_equals = archivo_ejemplo_bbd_clientes1.equals(archivo_ejemplo_bbd_clientes2)\n",
    "comparacion_equals"
   ]
  },
  {
   "cell_type": "code",
   "execution_count": 71,
   "metadata": {},
   "outputs": [
    {
     "name": "stdout",
     "output_type": "stream",
     "text": [
      "Iguales: True\n"
     ]
    }
   ],
   "source": [
    "print('Iguales:', comparacion_equals)"
   ]
  },
  {
   "cell_type": "markdown",
   "metadata": {},
   "source": [
    "Si realizamos una comparación con otro archivo distinto, vemos como dá resultado \"False\""
   ]
  },
  {
   "cell_type": "code",
   "execution_count": 66,
   "metadata": {},
   "outputs": [
    {
     "data": {
      "text/plain": [
       "False"
      ]
     },
     "execution_count": 66,
     "metadata": {},
     "output_type": "execute_result"
    }
   ],
   "source": [
    "archivo3 =pd.read_csv('CustomerSample.csv', quotechar ='\"',sep =';', encoding ='utf8')\n",
    "comparacion_equals = archivo_ejemplo_bbd_clientes1.equals(archivo3)\n",
    "comparacion_equals"
   ]
  },
  {
   "cell_type": "markdown",
   "metadata": {},
   "source": [
    "### Método any()   <a class=\"anchor\" id=\"any\"></a>\n",
    "El método any opera sobre un iterable y devuelve True si al menos uno de los miembros del iterable es True, y False si todos los elementos del iterable son False o el iterable está vacío. Podemos ver esto más sencillamente en una tabla \n",
    "\n",
    "\n",
    "| Valor de los datos                    | Valor de salida |\n",
    "|---------------------------------------|-----------------|\n",
    "| Todos los valores son True | True            |\n",
    "| Todos los valores son False           | False           |\n",
    "| Un valor es True (el resto son False) | True            |\n",
    "| Un valor es False (el resto son True) | True            |\n",
    "| Iteralbe vacío                        | False           |\n"
   ]
  },
  {
   "cell_type": "markdown",
   "metadata": {},
   "source": [
    "Comparación completa entre dos archivos:"
   ]
  },
  {
   "cell_type": "code",
   "execution_count": 8,
   "metadata": {},
   "outputs": [
    {
     "name": "stdout",
     "output_type": "stream",
     "text": [
      "¿Diferencias entre los dos archivos?: True\n"
     ]
    }
   ],
   "source": [
    "# comparación completa entre dos archivos.\n",
    "comparacion_any = (archivo_ejemplo_bbd_clientes1 != archivo_ejemplo_bbd_clientes2).any(axis=None)\n",
    "print('¿Diferencias entre los dos archivos?:', comparacion_any)"
   ]
  },
  {
   "cell_type": "markdown",
   "metadata": {},
   "source": [
    "Comparación por filas. Usando axis = 1, como antes. Se puede apreciar que el resultado obtenido es igual al inverso obtenido con al comparacon por filas con el método eq(), es decir True serán las filas con discrepancias:"
   ]
  },
  {
   "cell_type": "code",
   "execution_count": 9,
   "metadata": {},
   "outputs": [
    {
     "data": {
      "text/plain": [
       "0      True\n",
       "1      True\n",
       "2     False\n",
       "3      True\n",
       "4     False\n",
       "5     False\n",
       "6     False\n",
       "7      True\n",
       "8      True\n",
       "9      True\n",
       "10    False\n",
       "dtype: bool"
      ]
     },
     "execution_count": 9,
     "metadata": {},
     "output_type": "execute_result"
    }
   ],
   "source": [
    "comparacion_any_filas = (archivo_ejemplo_bbd_clientes1 != archivo_ejemplo_bbd_clientes2).any(1)\n",
    "comparacion_any_filas"
   ]
  },
  {
   "cell_type": "markdown",
   "metadata": {},
   "source": [
    "De la mísma manera, también podemos hacer la comparación por columnas, siendo True las columnas con discrepancias entre ambos archivos:"
   ]
  },
  {
   "cell_type": "code",
   "execution_count": 10,
   "metadata": {},
   "outputs": [
    {
     "data": {
      "text/plain": [
       "DateTime Recorded        False\n",
       "Name                     False\n",
       "Address                  False\n",
       "City                     False\n",
       "State                     True\n",
       "Email                    False\n",
       "Products Talked About    False\n",
       "Notes                     True\n",
       "dtype: bool"
      ]
     },
     "execution_count": 10,
     "metadata": {},
     "output_type": "execute_result"
    }
   ],
   "source": [
    "comparacion_any_columnas = (archivo_ejemplo_bbd_clientes1 != archivo_ejemplo_bbd_clientes2).any(0)\n",
    "comparacion_any_columnas"
   ]
  },
  {
   "cell_type": "markdown",
   "metadata": {},
   "source": [
    "El método .stack() nos permite apilar los datos. Se utiliza para remodelar el aspecto que tienen los datos. Es recomendable consultar la documentación de este método en este [enlace](https://pandas.pydata.org/pandas-docs/stable/reference/api/pandas.DataFrame.stack.html)"
   ]
  },
  {
   "cell_type": "code",
   "execution_count": 16,
   "metadata": {},
   "outputs": [
    {
     "data": {
      "text/plain": [
       "0   DateTime Recorded        False\n",
       "    Name                     False\n",
       "    Address                  False\n",
       "    City                     False\n",
       "    State                     True\n",
       "    Email                    False\n",
       "    Products Talked About    False\n",
       "    Notes                    False\n",
       "1   DateTime Recorded        False\n",
       "    Name                     False\n",
       "    Address                  False\n",
       "    City                     False\n",
       "    State                     True\n",
       "    Email                    False\n",
       "    Products Talked About    False\n",
       "    Notes                    False\n",
       "2   DateTime Recorded        False\n",
       "    Name                     False\n",
       "    Address                  False\n",
       "    City                     False\n",
       "    State                    False\n",
       "    Email                    False\n",
       "    Products Talked About    False\n",
       "    Notes                    False\n",
       "3   DateTime Recorded        False\n",
       "    Name                     False\n",
       "    Address                  False\n",
       "    City                     False\n",
       "    State                     True\n",
       "    Email                    False\n",
       "                             ...  \n",
       "7   Address                  False\n",
       "    City                     False\n",
       "    State                    False\n",
       "    Email                    False\n",
       "    Products Talked About    False\n",
       "    Notes                     True\n",
       "8   DateTime Recorded        False\n",
       "    Name                     False\n",
       "    Address                  False\n",
       "    City                     False\n",
       "    State                    False\n",
       "    Email                    False\n",
       "    Products Talked About    False\n",
       "    Notes                     True\n",
       "9   DateTime Recorded        False\n",
       "    Name                     False\n",
       "    Address                  False\n",
       "    City                     False\n",
       "    State                    False\n",
       "    Email                    False\n",
       "    Products Talked About    False\n",
       "    Notes                     True\n",
       "10  DateTime Recorded        False\n",
       "    Name                     False\n",
       "    Address                  False\n",
       "    City                     False\n",
       "    State                    False\n",
       "    Email                    False\n",
       "    Products Talked About    False\n",
       "    Notes                    False\n",
       "Length: 88, dtype: bool"
      ]
     },
     "execution_count": 16,
     "metadata": {},
     "output_type": "execute_result"
    }
   ],
   "source": [
    "diferencias_stacked = (archivo_ejemplo_bbd_clientes1 != archivo_ejemplo_bbd_clientes2).stack()\n",
    "diferencias_stacked"
   ]
  },
  {
   "cell_type": "markdown",
   "metadata": {},
   "source": [
    "Filtramos los valores que sean True:"
   ]
  },
  {
   "cell_type": "code",
   "execution_count": 17,
   "metadata": {},
   "outputs": [
    {
     "data": {
      "text/plain": [
       "0  State    True\n",
       "1  State    True\n",
       "3  State    True\n",
       "7  Notes    True\n",
       "8  Notes    True\n",
       "9  Notes    True\n",
       "dtype: bool"
      ]
     },
     "execution_count": 17,
     "metadata": {},
     "output_type": "execute_result"
    }
   ],
   "source": [
    "diferencias = diferencias_stacked[diferencias_stacked]\n",
    "diferencias"
   ]
  },
  {
   "cell_type": "markdown",
   "metadata": {},
   "source": [
    "Etiquetamos las cabeceras de las columnas:"
   ]
  },
  {
   "cell_type": "code",
   "execution_count": 19,
   "metadata": {},
   "outputs": [
    {
     "data": {
      "text/plain": [
       "id  columna\n",
       "0   State      True\n",
       "1   State      True\n",
       "3   State      True\n",
       "7   Notes      True\n",
       "8   Notes      True\n",
       "9   Notes      True\n",
       "dtype: bool"
      ]
     },
     "execution_count": 19,
     "metadata": {},
     "output_type": "execute_result"
    }
   ],
   "source": [
    "diferencias.index.names = ['id', 'columna']\n",
    "diferencias\n",
    "\n",
    "#print('Diferencias en:')\n",
    "#print(diferencias)"
   ]
  },
  {
   "cell_type": "markdown",
   "metadata": {},
   "source": [
    "#### Comparando datos  con la librería Pandas - Ejecutable python <a class=\"anchor\" id=\"python_pandas\"></a>"
   ]
  },
  {
   "attachments": {
    "Captura-panda-edit.png": {
     "image/png": "[encoded data removed]"
    }
   },
   "cell_type": "markdown",
   "metadata": {},
   "source": [
    "![Captura-panda-edit.png](attachment:Captura-panda-edit.png)"
   ]
  },
  {
   "cell_type": "markdown",
   "metadata": {},
   "source": [
    "## Comparando datos utilizando el algoritmo MD5 CHecksum <a class=\"anchor\" id=\"md5\"></a>\n",
    "El algoritmo MD5 Hash es parte de la librería \"hashlib\" de python, acepta una secuencia de bytes y devuelve un valor hash de 128 bits. Se suele utilizar para comprobar la integridad de los datos, realizar comprobaciones o control de versiones. La documentación se puede consultar en este [enlace](https://docs.python.org/3/library/hashlib.html). Funciones principales:\n",
    "\n",
    "- encode (): Convierte el string en bytes para que sea aceptable por la función hash.\n",
    "- digest (): Devuelve los datos codificados en formato byte.\n",
    "- hexdigest (): devuelve los datos codificados en formato hexadecimal.\n",
    "\n",
    "\n",
    "NOTA IMPORTANTE: es libreria sólo funciona con strings, bytes ó os.PathLike object (argumentos pasados por la shell del sistema), luego no acepta dataframes o series por jupyter notebook. Sin embargo, si es capaz de comparar datashets si los pasamos por shell, siendo md5.py el script en python del código que se presenta más abajo y se puede encontrar en el repositorio:\n",
    "> $ python md5.py archivo1 archivo2\n",
    "\n",
    "> $ python md5(v2).py archivo1 archivo2\n",
    "\n",
    "La versión v2 incluye un main(), pero el código es el mismo."
   ]
  },
  {
   "cell_type": "markdown",
   "metadata": {},
   "source": [
    "El siguiente código muestra el funcionamiento del MD5 hash que acepta bytes y devuelve la salida como bytes."
   ]
  },
  {
   "cell_type": "code",
   "execution_count": 33,
   "metadata": {},
   "outputs": [
    {
     "name": "stdout",
     "output_type": "stream",
     "text": [
      "Equivalencia byte hash: b\"\\x86|'\\x8c\\xfc\\xe1Q\\xf1\\xa5\\xe4\\xebn\\x1f\\xe6\\x11\\xe5\"\n"
     ]
    }
   ],
   "source": [
    "# ejemplo MD5 (byte - byte) \n",
    "  \n",
    "import hashlib \n",
    "  \n",
    "# Sin codificar para caracteres utf8, solo acepta caracteres ASCII\n",
    "output = hashlib.md5(b'Nobody expects the spanish inquisition') \n",
    "  \n",
    "# devuelve la salida como bytes\n",
    "print(\"Equivalencia byte hash: \", end =\"\") \n",
    "print(output.digest()) "
   ]
  },
  {
   "cell_type": "markdown",
   "metadata": {},
   "source": [
    "El siguiente código muestra el funcionamiento del MD5 hash que acepta un string y devuelve la salida hexadecimal equicalente:"
   ]
  },
  {
   "cell_type": "code",
   "execution_count": 36,
   "metadata": {},
   "outputs": [
    {
     "name": "stdout",
     "output_type": "stream",
     "text": [
      "Equivalencia hexadecimal hash: : 867c278cfce151f1a5e4eb6e1fe611e5\n"
     ]
    }
   ],
   "source": [
    "# ejemplo md5 (string - hexadecimal) \n",
    "  \n",
    "import hashlib \n",
    "  \n",
    "# initializing string \n",
    "str = \"Nobody expects the spanish inquisition\"\n",
    "  \n",
    "# primero codificamos el string usando encode() y luego se envia a md5()\n",
    "result = hashlib.md5(str.encode()) \n",
    "  \n",
    "# devuelve la salida hexadecimal equivalente\n",
    "print(\"Equivalencia hexadecimal hash: : \", end =\"\") \n",
    "print(result.hexdigest()) "
   ]
  },
  {
   "cell_type": "markdown",
   "metadata": {},
   "source": [
    "Habitualmente se utiliza este hash hexadecimal para comparar datos, revisando si ha habido cambios. Un ejemplo de esto se puede ver a continuación, utilizando la obra \"Sueño de una noche de verano\" de Shakespeare, extraida de gutenberg.org. "
   ]
  },
  {
   "cell_type": "markdown",
   "metadata": {},
   "source": [
    "Realizamos una copia en local y comparamos con el archivo original (utilizando la librería request)"
   ]
  },
  {
   "cell_type": "code",
   "execution_count": 77,
   "metadata": {},
   "outputs": [
    {
     "name": "stdout",
     "output_type": "stream",
     "text": [
      "Longitud del texto: 112127\n",
      "------------\n",
      "te first edition [xxxxx10x.xxx] please check file sizes\r\n",
      "in the first week of the next month.  Since our ftp program has\r\n",
      "a bug in it that scrambles the date [tried to fix and failed] a\r\n",
      "look at the file size will have to do, but we will try to see a\r\n",
      "new copy has at least one byte more or less.\r\n",
      "\r\n",
      "\r\n",
      "Information about Project Gutenberg (one page)\r\n",
      "\r\n",
      "We produce about two million dollars for each hour we work.  The\r\n",
      "time it takes us, a rather conservative estimate, is fifty hours\r\n",
      "to get any etext selected, entered, proofread, edited, copyright\r\n",
      "searched and analyzed, the copyright letters written, etc.  This\r\n",
      "projected audience is one hundred million readers.  If our value\r\n",
      "per text is nominally estimated at one dollar then we produce $2\r\n",
      "million dollars per hour this year as we release thirty-six text\r\n",
      "files per month, or 432 more Etexts in 1999 for a total of 2000+\r\n",
      "If these reach just 10% of the computerized population, then the\r\n",
      "total should reach over 200 billion Etexts given away \n",
      "------------\n",
      "Hash hexadecimal: cce0d35b8b2c4dafcbde3deb983fec0a\n"
     ]
    }
   ],
   "source": [
    "import hashlib\n",
    "import requests\n",
    "night = requests.get(\"http://www.gutenberg.org/ebooks/1514.txt.utf-8\")\n",
    "len(night.text)\n",
    "print(\"Longitud del texto:\",len(night.text))\n",
    "print(\"------------\")\n",
    "# fragmento del texto\n",
    "print(night.text[2000:3000])\n",
    "print(\"------------\")\n",
    "hashx = hashlib.md5(night.text.encode(\"utf-8\")).hexdigest()\n",
    "print(\"Hash hexadecimal:\", hashx)"
   ]
  },
  {
   "cell_type": "markdown",
   "metadata": {},
   "source": [
    "¿Es igual el hash de nuestra copia en local que el del original alojado en la web?"
   ]
  },
  {
   "cell_type": "code",
   "execution_count": 78,
   "metadata": {},
   "outputs": [
    {
     "data": {
      "text/plain": [
       "True"
      ]
     },
     "execution_count": 78,
     "metadata": {},
     "output_type": "execute_result"
    }
   ],
   "source": [
    "hash2 = hashlib.md5(requests.get(\"http://www.gutenberg.org/ebooks/1514.txt.utf-8\").text.encode(\"utf-8\")).hexdigest()\n",
    "hashx == hash2\n"
   ]
  },
  {
   "cell_type": "markdown",
   "metadata": {},
   "source": [
    "Ahora vamos a realizar una modifican en el texto, reemplazando \"Dream\" por \"sueño\". Así es como quedaría la primera linea."
   ]
  },
  {
   "cell_type": "code",
   "execution_count": 83,
   "metadata": {},
   "outputs": [
    {
     "name": "stdout",
     "output_type": "stream",
     "text": [
      "﻿\r\n",
      "Project Gutenberg Etext of A Midsummer Night's Dream by Shakespeare\r\n",
      "PG has multiple editions of \n",
      "-----------------\n",
      "﻿\r\n",
      "Project Gutenberg Etext of A Midsummer Night's sueño by Shakespeare\r\n",
      "PG has multiple editions of \n"
     ]
    }
   ],
   "source": [
    "print(night.text[0:100])\n",
    "print(\"-----------------\")\n",
    "print(night.text.replace(\"Dream\", \"sueño\")[0:100])"
   ]
  },
  {
   "cell_type": "markdown",
   "metadata": {},
   "source": [
    "Realizamos la sustitución, obtenemos el nuevo hash y comparamos con el original, como se puede observar, ya no son iguales."
   ]
  },
  {
   "cell_type": "code",
   "execution_count": 84,
   "metadata": {},
   "outputs": [
    {
     "name": "stdout",
     "output_type": "stream",
     "text": [
      "cfec43c079e51cecfea55ef71c412e33\n"
     ]
    },
    {
     "data": {
      "text/plain": [
       "False"
      ]
     },
     "execution_count": 84,
     "metadata": {},
     "output_type": "execute_result"
    }
   ],
   "source": [
    "hashx = hashlib.md5(night.text.replace(\"Dream\", \"sueño\").encode(\"utf-8\")).hexdigest()\n",
    "print(hashx)\n",
    "hashx == hash2"
   ]
  },
  {
   "cell_type": "markdown",
   "metadata": {},
   "source": [
    "#### Comparando datos  con md5 - Ejecutable python <a class=\"anchor\" id=\"python_md5\"></a>\n",
    "A continuación se incluye el código del script md5.py que comparar dos archivos sí lo llamamos por shell, ya que como se ha indicado anteriormente, esta librería sólo funciona con strings, bytes ó os.PathLike object (argumentos pasados por la shell del sistema), luego no acepta dataframes o series por jupyter notebook. Sin embargo, si es capaz de comparar datashets si los pasamos por shell, siendo md5.py el script en python del código que se presenta más abajo y se puede encontrar en el repositorio:\n",
    "> $ python md5(v2).py archivo1 archivo2"
   ]
  },
  {
   "cell_type": "code",
   "execution_count": null,
   "metadata": {},
   "outputs": [],
   "source": [
    "# script de md5(v2).py\n",
    "# Comparar si dos archivos son iguales mediante MD5 Checksum (V2 con main)\n",
    "\n",
    "# librerias\n",
    "#import hashlib\n",
    "import hashlib, sys\n",
    "\n",
    "# paso de ficheros por argumento de shell\n",
    "files = [sys.argv[1], sys.argv[2]] \n",
    "def md5(fname):\n",
    "    md5hash = hashlib.md5()\n",
    "    \n",
    "    # Abriremos el fichero linea a linea, por cuestiones de memoria.\n",
    "    with open(fname) as handle:\n",
    "        for line in handle:\n",
    "            md5hash.update(line.encode('utf-8'))\n",
    "    return(md5hash.hexdigest())\n",
    "\n",
    "def main():\n",
    "    print('Comparando archivos',files[0],' y ',files[1], \" usando MD5.\")\n",
    "\n",
    "    if md5(files[0]) == md5(files[1]):\n",
    "        print('Coinciden.')\n",
    "    else:\n",
    "        print('No coinciden.')\n",
    "\n",
    "\n",
    "if __name__ == \"__main__\":\n",
    "    main()"
   ]
  },
  {
   "attachments": {
    "Captura_md5-edit.png": {
     "image/png": "[encoded data removed]"
    }
   },
   "cell_type": "markdown",
   "metadata": {},
   "source": [
    "![Captura_md5-edit.png](attachment:Captura_md5-edit.png)"
   ]
  },
  {
   "cell_type": "markdown",
   "metadata": {},
   "source": [
    "## Comparando datos utilizando el algoritmo SHA1 <a class=\"anchor\" id=\"sha1\"></a>\n",
    "El algoritmo SHA1 es otro algoritmo hexadecimal que convertirá el contenido de nuestro archivo en un string. Es el mismo algoritmo que Bitcoin usa para su proceso de minería blockchain. Es parte de la librería hashlib, y se utiliza exactamente igual que  md5. Este es el contenido del script sha1.py el script que se puede encontrar en el repositorio:\n",
    "> $ python sha1.py archivo1 archivo2"
   ]
  },
  {
   "cell_type": "code",
   "execution_count": null,
   "metadata": {},
   "outputs": [],
   "source": [
    "# Comparar si dos archivos son iguales mediante SHA1\n",
    "\n",
    "# librerias\n",
    "#import hashlib\n",
    "import hashlib, sys\n",
    "\n",
    "# paso de ficheros por argumento de shell\n",
    "files = [sys.argv[1], sys.argv[2]] \n",
    "def sha1(fname):\n",
    "    sha1hash = hashlib.sha1()\n",
    "    \n",
    "    # Abriremos el fichero linea a linea, por cuestiones de memoria.\n",
    "    with open(fname) as handle:\n",
    "        for line in handle:\n",
    "            sha1hash.update(line.encode('utf-8'))\n",
    "    return(sha1hash.hexdigest())\n",
    "\n",
    "def main():\n",
    "    print('Comparando archivos',files[0],' y ',files[1], \" usando SHA1.\")\n",
    "\n",
    "    if sha1(files[0]) == sha1(files[1]):\n",
    "        print('Coinciden.')\n",
    "    else:\n",
    "        print('No coinciden.')\n",
    "\n",
    "\n",
    "if __name__ == \"__main__\":\n",
    "    main()"
   ]
  },
  {
   "cell_type": "markdown",
   "metadata": {},
   "source": [
    "#### Comparando datos con SHA1 - Ejecutable python <a class=\"anchor\" id=\"python_sha1\"></a>"
   ]
  },
  {
   "attachments": {
    "Captura_sha1-edit.png": {
     "image/png": "[encoded data removed]"
    }
   },
   "cell_type": "markdown",
   "metadata": {},
   "source": [
    "![Captura_sha1-edit.png](attachment:Captura_sha1-edit.png)"
   ]
  },
  {
   "cell_type": "markdown",
   "metadata": {},
   "source": [
    "<p style=\"display: none;\">\n",
    "\tautor: Guillermo Benito Barrios\n",
    "    github: https://github.com/GuillermoBenitoBarrios \n",
    "</p>"
   ]
  }
 ],
 "metadata": {
  "kernelspec": {
   "display_name": "Python 3",
   "language": "python",
   "name": "python3"
  },
  "language_info": {
   "codemirror_mode": {
    "name": "ipython",
    "version": 3
   },
   "file_extension": ".py",
   "mimetype": "text/x-python",
   "name": "python",
   "nbconvert_exporter": "python",
   "pygments_lexer": "ipython3",
   "version": "3.7.3"
  }
 },
 "nbformat": 4,
 "nbformat_minor": 2
}
